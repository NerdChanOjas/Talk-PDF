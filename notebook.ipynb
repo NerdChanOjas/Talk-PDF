{
 "cells": [
  {
   "cell_type": "code",
   "execution_count": 1,
   "metadata": {},
   "outputs": [
    {
     "name": "stdout",
     "output_type": "stream",
     "text": [
      "This is work\n"
     ]
    }
   ],
   "source": [
    "print(\"This is work\")"
   ]
  },
  {
   "cell_type": "code",
   "execution_count": 2,
   "metadata": {},
   "outputs": [],
   "source": [
    "import os\n",
    "from dotenv import load_dotenv\n",
    "\n",
    "load_dotenv()\n",
    "\n",
    "OPENAI_KEY = os.getenv(\"OPENAI_KEY\")\n",
    "\n",
    "MODELC = \"gpt-3.5-turbo\"\n",
    "MODELO = \"mistral\""
   ]
  },
  {
   "cell_type": "code",
   "execution_count": 3,
   "metadata": {},
   "outputs": [],
   "source": [
    "# from langchain_openai.chat_models import ChatOpenAI\n",
    "\n",
    "# chat_model = ChatOpenAI(openai_api_key=OPENAI_KEY, model=MODELC)\n",
    "# chat_model.invoke(\"tell me a nice joke\")"
   ]
  },
  {
   "cell_type": "code",
   "execution_count": 4,
   "metadata": {},
   "outputs": [],
   "source": [
    "from langchain_community.llms import Ollama\n",
    "from langchain_community.embeddings import OllamaEmbeddings\n"
   ]
  },
  {
   "cell_type": "code",
   "execution_count": 5,
   "metadata": {},
   "outputs": [],
   "source": [
    "model = Ollama(model=MODELO)\n",
    "embeddings = OllamaEmbeddings(model=MODELO) "
   ]
  },
  {
   "cell_type": "code",
   "execution_count": 6,
   "metadata": {},
   "outputs": [
    {
     "data": {
      "text/plain": [
       "\" Why don't scientists trust atoms? Because they make up everything! \\\\*wink wink\\\\*\""
      ]
     },
     "execution_count": 6,
     "metadata": {},
     "output_type": "execute_result"
    }
   ],
   "source": [
    "model.invoke(\"tell me a nice joke\")"
   ]
  },
  {
   "cell_type": "code",
   "execution_count": 7,
   "metadata": {},
   "outputs": [],
   "source": [
    "from langchain_community.document_loaders import PyPDFLoader\n",
    "\n",
    "loader = PyPDFLoader(\"Ojas Resume Official Updated.pdf\")\n",
    "pages = loader.load_and_split()"
   ]
  },
  {
   "cell_type": "code",
   "execution_count": 8,
   "metadata": {},
   "outputs": [
    {
     "name": "stdout",
     "output_type": "stream",
     "text": [
      "Answer the questio based on the context below. If you can't answer the question, reply \"I don't know.\"\n",
      "\n",
      "Context: somethin\n",
      "\n",
      "Question: siomethin\n",
      "\n"
     ]
    }
   ],
   "source": [
    "from langchain.prompts import PromptTemplate\n",
    "\n",
    "template = \"\"\"Answer the questio based on the context below. If you can't answer the question, reply \"I don't know.\"\n",
    "\n",
    "Context: {context}\n",
    "\n",
    "Question: {question}\n",
    "\"\"\"\n",
    "\n",
    "prompt = PromptTemplate.from_template(template)\n",
    "\n",
    "print(prompt.format(context=\"somethin\", question = \"siomethin\"))"
   ]
  },
  {
   "cell_type": "code",
   "execution_count": 9,
   "metadata": {},
   "outputs": [],
   "source": [
    "chain = prompt | model"
   ]
  },
  {
   "cell_type": "code",
   "execution_count": 10,
   "metadata": {},
   "outputs": [
    {
     "data": {
      "text/plain": [
       "{'title': 'PromptInput',\n",
       " 'type': 'object',\n",
       " 'properties': {'context': {'title': 'Context', 'type': 'string'},\n",
       "  'question': {'title': 'Question', 'type': 'string'}},\n",
       " 'required': ['context', 'question']}"
      ]
     },
     "execution_count": 10,
     "metadata": {},
     "output_type": "execute_result"
    }
   ],
   "source": [
    "chain.input_schema.schema()"
   ]
  },
  {
   "cell_type": "code",
   "execution_count": 11,
   "metadata": {},
   "outputs": [
    {
     "data": {
      "text/plain": [
       "' Santiago'"
      ]
     },
     "execution_count": 11,
     "metadata": {},
     "output_type": "execute_result"
    }
   ],
   "source": [
    "chain.invoke(\n",
    "    {\n",
    "        \"context\": \"The name I was give was Santiago\",\n",
    "        \"question\": \"What is my name?\"\n",
    "    }\n",
    ")"
   ]
  },
  {
   "cell_type": "code",
   "execution_count": 12,
   "metadata": {},
   "outputs": [],
   "source": [
    "from langchain_community.vectorstores import DocArrayInMemorySearch\n",
    "\n",
    "vectorstore = DocArrayInMemorySearch.from_documents(\n",
    "    pages,\n",
    "    embedding = embeddings\n",
    ")  #on a real project we would be usig a real vector database"
   ]
  },
  {
   "cell_type": "code",
   "execution_count": 13,
   "metadata": {},
   "outputs": [
    {
     "data": {
      "text/plain": [
       "[Document(metadata={'source': 'Ojas Resume Official Updated.pdf', 'page': 0}, page_content='Ojas\\n♂phone-square-alt +91 8810322614 ·/envel⌢pe o jas.co desmith@gmail.com ·/linkedin Link edIn ·/github Gith ub\\nEducation\\nNeta ji Subhas Univ ersit y of T ec hnology Ma y 2021 - Ma y 2025\\nB.T e ch. in Computer Scienc e with A rti\\x1ccial Intel ligenc e New Delhi, India\\nKendriy a Vidy ala y a Shalimar Bagh, Delhi\\nCBSE Class XII 2021\\nCBSE Class X 2019\\nExp erience\\nMorgan Stanley May 2024 - July 2024\\nT e chnolo gy A nalyst On-site\\n- Arc hitected and deplo y ed a distributed cac hing system using Hazelcast and Ja v a for a critical Spring\\nBo ot microservice, enhancing system reliabilit y and reducing a v erage resp onse time b y 70%.\\n- Designed cac he p olicies and in v alidation strategies to main tain data consistency in a distributed\\nen vironmen t, reducing data staleness b y 95% and decreasing database load b y 60%.\\n- Impro v ed system scalabilit y through optimized cac hing, enabling the service to handle a 3x increase in\\nconcurren t users while main taining p erformance in tegrit y .\\nMahindra Logistics F eb 2024 - Mar 2024\\nSoftwar e Engine ering Intern R emote\\n- Engineered a full-stac k KPI monitoring application using Next.js for fron tend, optimizing bac k end APIs\\nwith No de.js and MySQL, resulting in a comprehensiv e p erformance trac king system.\\n- Implemen ted adv anced cac hing strategies and query optimizations , reducing API resp onse times b y\\n30% and enhancing o v erall application p erformance.\\n- Redesigned user in terface applying UX b est practices, leading to a 40% increase in user engagemen t\\nand signi\\x1ccan tly impro v ed na vigation e\\x1eciency .\\nSkills\\n\\x88 Programming languages: Python, C++, Ja v aScript, Ja v a\\n\\x88 Dev elopmen t: HTML, CSS, ReactJs, Nextjs, ExpressJs, React Nativ e, Springb o ot\\n\\x88 Mac hine learning: Nump y , P andas, MatPlotLib, Scikit Learn, Pytorc h\\n\\x88 V ersion con trol: Git, GitHub, Do c k er\\n\\x88 Database: MongoDB, MySQL, DB2\\nPro jects\\nV erify Bharat | Blo ckchain, Expr ess, R e actJS\\n\\x88 Arc hitected a decen tralized platform lev eraging Ethereum blo c k c hain for tamp er-pro of do cumen t\\nv eri\\x1ccation, ac hieving 100% data in tegrit y through IPFS storage.\\n\\x88 Engineered smart con tracts for gran ular access con trol, enabling secure do cumen t sharing with 256-bit\\nencryption, while main taining an a v erage transaction sp eed of 15 seconds on the Ethereum net w ork.\\nA doptConnect | R e actJs, MongoDB, Expr ess, Flutter, Figma,\\n\\x88 Dev elop ed a m ultilingual w eb and mobile app with a custom bac k end to facilitate orphaned c hild\\nadoption for the non-pro\\x1ct organization \\x10Bal Asha T rust\\x11 , exp ected to increase adoption rates b y an\\nimpressiv e 23%.\\n\\x88 Designed a mo dern UI with b est practices and implemen ted it in reactJs , resulting in a 10%\\nenhancemen t in user engagemen t and con trol.\\nSnak e RL | Python, R einfor c ement le arning, PyT or ch\\n\\x88 Implemen ted adv anced neural net w ork arc hitectures in PyT orc h with a robust rew ard system and\\nstate represen tation for autonomous strategy impro v emen t .\\n\\x88 W ork ed with epsilon-greedy p olicy to balance exploration and exploitation, resulting in an agen t that\\nsurpassed h uman-lev el p erformance after 500 training episo des.\\nHonors and A w ards\\n\\x88 A cquired First p osition in Mahindara Logistics Catapult T ec hathon 2024 at all India lev el.\\n\\x88 Clinc hed the First Place at Morgan Stanley\\'s prestigious \"Co de to Giv e\" Hac k athon 2023.\\n\\x88 Serv ed as an Exp ert Judge at the W orld Rob ot Olympiad (W.R.O.) National Championship 2022.\\n\\x88 Among top 30 teams selected for nationals Smart India Hac k athon\\'23.\\nP osition of Resp onsibilit y\\n1. Head, Media | Moksha-Innovision NSUT, The A nnual Cultur al and T e chnic al F est of NSUT\\n\\x88 Sp earheaded a 12-mem b er team for securing sp onsorship , managing and pro ducing con ten t and\\nev en t co v erage .\\n2. Core T eam | T e dX NSUT, The T e d chapter of NSUT\\n\\x88 Managed a div erse team of 9 v olun teers , orc hestrating sp eak er in vitations , con ten t curation, and\\ncomprehensiv e ev en t co v erage')]"
      ]
     },
     "execution_count": 13,
     "metadata": {},
     "output_type": "execute_result"
    }
   ],
   "source": [
    "retriever = vectorstore.as_retriever()\n",
    "\n",
    "retriever.invoke(\"experience\")"
   ]
  },
  {
   "cell_type": "code",
   "execution_count": 14,
   "metadata": {},
   "outputs": [],
   "source": [
    "from operator import itemgetter\n",
    "\n",
    "chain = (\n",
    "    {\n",
    "        \"context\": itemgetter(\"question\") | retriever,\n",
    "        \"question\": itemgetter(\"question\")\n",
    "    }\n",
    "    | prompt\n",
    "    | model\n",
    ")"
   ]
  },
  {
   "cell_type": "code",
   "execution_count": 16,
   "metadata": {},
   "outputs": [
    {
     "data": {
      "text/plain": [
       "' Ojas\\'s qualifications include:\\n\\n1. Education: He is currently pursuing his B.Tech in Computer Science with Artificial Intelligence specialization from Neta ji Subhas University of Technology from May 2021 to May 2025.\\n\\n2. Skills: His programming languages include Python, C++, JavaScript, and Java. He also has development skills such as HTML, CSS, ReactJS, Nextjs, ExpressJs, React Native, Spring Boot. Additionally, he is proficient in machine learning with tools like NumPy, Pandas, MatPlotLib, Scikit Learn, Pytorch. He is also familiar with version control systems Git, GitHub, Docker. His database knowledge includes MongoDB, MySQL, DB2.\\n\\n3. Projects: Ojas has worked on projects like Verify Bharat (blockchain, ExpressJS), AdoptConnect (ReactJs, MongoDB, ExpressJS, Flutter, Figma), and SnakeRL (Python, Reinforcement Learning, PyTorch).\\n\\n4. Honors and Awards: He has achieved first position in Mahindra Logistics Catapult Techathon 2024 at the all-India level, clinched the First Place at Morgan Stanley\\'s prestigious \"Code to Give\" Hackathon 2023, served as an Expert Judge at the World Robot Olympiad (W.R.O.) National Championship 2022, and was among the top 30 teams selected for nationals Smart India Hacakthon\\'23.\\n\\n5. Experience: Ojas has interned at Morgan Stanley in Technology Analyst On-site role from May 2024 to July 2024 and did a Software Engineering Internship at Mahindra Logistics from Feb 2024 to Mar 2024.\\n\\n6. Projects in Media: He is the head of media at Moksha-Innovision NSUT, The Annual Cultural and Technical Fest of NSUT, where he leads a team for securing sponsorship, managing content, and event coverage.'"
      ]
     },
     "execution_count": 16,
     "metadata": {},
     "output_type": "execute_result"
    }
   ],
   "source": [
    "chain.invoke({\"question\": \"What are the qualifications of Ojas?\"})"
   ]
  },
  {
   "cell_type": "code",
   "execution_count": 19,
   "metadata": {},
   "outputs": [
    {
     "name": "stdout",
     "output_type": "stream",
     "text": [
      " Ojas's qualifications include:\n",
      "\n",
      "1. Education: He is currently pursuing his B.Tech in Computer Science with Artificial Intelligence specialization from Neta ji Subhas University of Technology from May 2021 to May 2025.\n",
      "\n",
      "2. Skills: His programming languages include Python, C++, JavaScript, and Java. He also has development skills such as HTML, CSS, ReactJS, Nextjs, ExpressJs, React Native, Spring Boot. Additionally, he is proficient in machine learning with tools like NumPy, Pandas, MatPlotLib, Scikit Learn, Pytorch. He is also familiar with version control systems Git, GitHub, Docker. His database knowledge includes MongoDB, MySQL, DB2.\n",
      "\n",
      "3. Projects: Ojas has worked on projects like Verify Bharat (blockchain, ExpressJS), AdoptConnect (ReactJs, MongoDB, ExpressJS, Flutter, Figma), and SnakeRL (Python, Reinforcement Learning, PyTorch).\n",
      "\n",
      "4. Honors and Awards: He has achieved first position in Mahindra Logistics Catapult Techathon 2024 at the all-India level, clinched the First Place at Morgan Stanley's prestigious \"Code to Give\" Hackathon 2023, served as an Expert Judge at the World Robot Olympiad (W.R.O.) National Championship 2022, and was among the top 30 teams selected for nationals Smart India Hacakthon'23.\n",
      "\n",
      "5. Experience: Ojas has interned at Morgan Stanley in Technology Analyst On-site role from May 2024 to July 2024 and did a Software Engineering Internship at Mahindra Logistics from Feb 2024 to Mar 2024.\n",
      "\n",
      "6. Projects in Media: He is the head of media at Moksha-Innovision NSUT, The Annual Cultural and Technical Fest of NSUT, where he leads a team for securing sponsorship, managing content, and event coverage.\n"
     ]
    }
   ],
   "source": [
    "print(' Ojas\\'s qualifications include:\\n\\n1. Education: He is currently pursuing his B.Tech in Computer Science with Artificial Intelligence specialization from Neta ji Subhas University of Technology from May 2021 to May 2025.\\n\\n2. Skills: His programming languages include Python, C++, JavaScript, and Java. He also has development skills such as HTML, CSS, ReactJS, Nextjs, ExpressJs, React Native, Spring Boot. Additionally, he is proficient in machine learning with tools like NumPy, Pandas, MatPlotLib, Scikit Learn, Pytorch. He is also familiar with version control systems Git, GitHub, Docker. His database knowledge includes MongoDB, MySQL, DB2.\\n\\n3. Projects: Ojas has worked on projects like Verify Bharat (blockchain, ExpressJS), AdoptConnect (ReactJs, MongoDB, ExpressJS, Flutter, Figma), and SnakeRL (Python, Reinforcement Learning, PyTorch).\\n\\n4. Honors and Awards: He has achieved first position in Mahindra Logistics Catapult Techathon 2024 at the all-India level, clinched the First Place at Morgan Stanley\\'s prestigious \"Code to Give\" Hackathon 2023, served as an Expert Judge at the World Robot Olympiad (W.R.O.) National Championship 2022, and was among the top 30 teams selected for nationals Smart India Hacakthon\\'23.\\n\\n5. Experience: Ojas has interned at Morgan Stanley in Technology Analyst On-site role from May 2024 to July 2024 and did a Software Engineering Internship at Mahindra Logistics from Feb 2024 to Mar 2024.\\n\\n6. Projects in Media: He is the head of media at Moksha-Innovision NSUT, The Annual Cultural and Technical Fest of NSUT, where he leads a team for securing sponsorship, managing content, and event coverage.'\n",
    ")"
   ]
  },
  {
   "cell_type": "code",
   "execution_count": 20,
   "metadata": {},
   "outputs": [
    {
     "data": {
      "text/plain": [
       "' Yes, based on the context provided, it appears that Ojas has experience working with various programming languages such as Python, C++, JavaScript, JavaScript, and Next.js for frontend. He also has back-end APIs optimization experience using Node.js and MySQL, which are often used in backend development. Additionally, he has demonstrated skills in optimizing cache strategies, query optimizations, and improving application performance, all of which are crucial for a good backend developer. Furthermore, he has worked on projects such as Verify Bharat (Blockchain), AdoptConnect (mobile app with custom back-end), and Snake RL (PyTorch) that require strong backend skills.'"
      ]
     },
     "execution_count": 20,
     "metadata": {},
     "output_type": "execute_result"
    }
   ],
   "source": [
    "chain.invoke({\"question\": \"Do you think Ojas can be a good backend developer?\"})"
   ]
  },
  {
   "cell_type": "code",
   "execution_count": null,
   "metadata": {},
   "outputs": [],
   "source": []
  }
 ],
 "metadata": {
  "kernelspec": {
   "display_name": "Python 3",
   "language": "python",
   "name": "python3"
  },
  "language_info": {
   "codemirror_mode": {
    "name": "ipython",
    "version": 3
   },
   "file_extension": ".py",
   "mimetype": "text/x-python",
   "name": "python",
   "nbconvert_exporter": "python",
   "pygments_lexer": "ipython3",
   "version": "3.11.3"
  }
 },
 "nbformat": 4,
 "nbformat_minor": 2
}
